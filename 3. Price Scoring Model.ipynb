{
 "cells": [
  {
   "cell_type": "markdown",
   "metadata": {
    "application/vnd.databricks.v1+cell": {
     "cellMetadata": {
      "byteLimit": 2048000,
      "rowLimit": 10000
     },
     "inputWidgets": {},
     "nuid": "d7150f0d-4a2c-42c6-bbe4-abb031769552",
     "showTitle": false,
     "tableResultSettingsMap": {},
     "title": ""
    }
   },
   "source": [
    "\n",
    "### 🔍 Function: `score_quote`\n",
    "\n",
    "This function calculates a quote price using a basic risk-based pricing formula, allowing flexible keyword inputs with sensible defaults.\n",
    "\n",
    "- **Input:** Keyword arguments (`age`, `vehicle_type`, `ncd_amount`, `claims_amount`) — all optional\n",
    "- **Output:** A numeric `quote_value` representing the scored insurance price\n",
    "- **Logic:**\n",
    "  - Applies age and claims-based adjustments\n",
    "  - Adjusts for NCD and vehicle type multiplier\n",
    "  - Returns a rounded final quote price\n",
    "\n",
    "- **Use case:** Useful for programmatically scoring quotes when some input data may be missing or uncertain"
   ]
  },
  {
   "cell_type": "code",
   "execution_count": 0,
   "metadata": {
    "application/vnd.databricks.v1+cell": {
     "cellMetadata": {
      "byteLimit": 2048000,
      "rowLimit": 10000
     },
     "inputWidgets": {},
     "nuid": "6d538c1c-6670-4b14-866f-ec135fc105e4",
     "showTitle": false,
     "tableResultSettingsMap": {},
     "title": ""
    }
   },
   "outputs": [],
   "source": [
    "catalog_name = \"lrcatalog\"\n",
    "schema_name = \"agentic_underwriting\""
   ]
  },
  {
   "cell_type": "code",
   "execution_count": 0,
   "metadata": {
    "application/vnd.databricks.v1+cell": {
     "cellMetadata": {
      "byteLimit": 2048000,
      "rowLimit": 10000
     },
     "inputWidgets": {},
     "nuid": "7e0e13ac-46cb-405e-aedb-cdaf2a6b3581",
     "showTitle": false,
     "tableResultSettingsMap": {},
     "title": ""
    }
   },
   "outputs": [],
   "source": [
    "def score_quote(**kwargs):\n",
    "    # Extract only relevant fields with defaults\n",
    "    age = kwargs.get(\"age\", 40)\n",
    "    vehicle_type = kwargs.get(\"vehicle_type\", \"Other\")\n",
    "    ncd_declared = kwargs.get(\"ncd_amount\", 0)\n",
    "    claims_declared = kwargs.get(\"claims_amount\", 0)\n",
    "    storage_declared = kwargs.get(\"storage_declared\", \"unknown\")\n",
    "\n",
    "    # Base price\n",
    "    base_price = 500\n",
    "    claim_adj = claims_declared * 100\n",
    "\n",
    "    vehicle_mult = {\n",
    "        \"SUV\": 1.2,\n",
    "        \"Hatchback\": 1.0,\n",
    "        \"Sports\": 1.5\n",
    "    }.get(vehicle_type, 1.1)\n",
    "\n",
    "    if age < 25:\n",
    "        age_adj = 200\n",
    "    elif age < 35:\n",
    "        age_adj = 100\n",
    "    else:\n",
    "        age_adj = 0\n",
    "\n",
    "    # Storage adjustment as plain Python logic\n",
    "    if storage_declared == \"garage\":\n",
    "        storage_adj = -50\n",
    "    elif storage_declared == \"driveway\":\n",
    "        storage_adj = 0\n",
    "    elif storage_declared == \"street\":\n",
    "        storage_adj = 50\n",
    "    else:\n",
    "        storage_adj = 25\n",
    "\n",
    "    ncd_adj = ncd_declared * 30\n",
    "\n",
    "    # Final quote\n",
    "    quote_value = round((base_price + claim_adj + age_adj + storage_adj - ncd_adj) * vehicle_mult, 2)\n",
    "    return quote_value"
   ]
  },
  {
   "cell_type": "markdown",
   "metadata": {
    "application/vnd.databricks.v1+cell": {
     "cellMetadata": {
      "byteLimit": 2048000,
      "rowLimit": 10000
     },
     "inputWidgets": {},
     "nuid": "e2ac9430-430c-48f5-a96f-3da5339cb381",
     "showTitle": false,
     "tableResultSettingsMap": {},
     "title": ""
    }
   },
   "source": [
    "\n",
    "### 💡 Example: Scoring a Quote\n",
    "\n",
    "This example demonstrates how to use the `score_quote` function to calculate an insurance price for a specific customer profile.\n",
    "\n",
    "- **Inputs used (example):** \n",
    "  - `age=32`\n",
    "  - `postcode=\"CR3 6JF\"` *(ignored by the model)*\n",
    "  - `vehicle_type=\"Hatchback\"`\n",
    "  - `ncd_amount=5`\n",
    "  - `claims_amount=0`\n",
    "  \n",
    "  Any other inputs are ignored. \n",
    "\n",
    "- **Output:** Prints the final `quote_value` formatted as currency\n",
    "\n",
    "- **Use case:** Generate price for given set of inputs. "
   ]
  },
  {
   "cell_type": "code",
   "execution_count": 0,
   "metadata": {
    "application/vnd.databricks.v1+cell": {
     "cellMetadata": {
      "byteLimit": 2048000,
      "rowLimit": 10000
     },
     "inputWidgets": {},
     "nuid": "fe3050d6-e39b-4c8d-aa7a-904dd251a47d",
     "showTitle": false,
     "tableResultSettingsMap": {},
     "title": ""
    }
   },
   "outputs": [],
   "source": [
    "price = score_quote(\n",
    "    age=32,\n",
    "    postcode=\"CR3 6JF\",\n",
    "    vehicle_type=\"Hot Hatch\",\n",
    "    ncd_amount=2,\n",
    "    claims_amount=1,\n",
    "    storage_declared=\"garage\"\n",
    "    )\n",
    "\n",
    "print(f\"Quote value: £{price}\")"
   ]
  }
 ],
 "metadata": {
  "application/vnd.databricks.v1+notebook": {
   "computePreferences": null,
   "dashboards": [],
   "environmentMetadata": {
    "base_environment": "dbe_c5986e9d-37a9-4446-a259-103b92642bc0",
    "environment_version": "2"
   },
   "inputWidgetPreferences": null,
   "language": "python",
   "notebookMetadata": {
    "pythonIndentUnit": 2
   },
   "notebookName": "3. Price Scoring Model",
   "widgets": {}
  },
  "language_info": {
   "name": "python"
  }
 },
 "nbformat": 4,
 "nbformat_minor": 0
}
